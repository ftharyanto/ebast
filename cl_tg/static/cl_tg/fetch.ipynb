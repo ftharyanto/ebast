{
 "cells": [
  {
   "cell_type": "code",
   "execution_count": 19,
   "metadata": {},
   "outputs": [
    {
     "name": "stdout",
     "output_type": "stream",
     "text": [
      "                    0                    1                    2\n",
      "0                None                 None                 None\n",
      "1        T1.CRIK.RAD1  2024-01-25 18:35:00  2024-01-25 18:40:06\n",
      "2        T1.CRIK.RAD2  2024-01-25 18:35:00  2024-01-25 18:40:06\n",
      "3       T1.CRIK.SOLAR  2024-01-25 18:35:00  2024-01-25 18:40:06\n",
      "4     T1.CRIK.BATTERY  2024-01-25 18:35:00  2024-01-25 18:40:06\n",
      "...               ...                  ...                  ...\n",
      "1455     T1.TRTE.PRS1  2025-01-28 10:01:03  2025-01-28 10:09:54\n",
      "1456     T1.TRTE.ENC1  2025-01-28 10:01:03  2025-01-28 10:09:54\n",
      "1457     T1.TRTE.RAD1  2025-01-28 10:01:03  2025-01-28 10:09:54\n",
      "1458    T1.TRTE.SOLAR  2025-01-28 10:01:03  2025-01-28 10:09:54\n",
      "1459  T1.TRTE.BATTERY  2025-01-28 10:01:03  2025-01-28 10:09:54\n",
      "\n",
      "[1460 rows x 3 columns]\n"
     ]
    }
   ],
   "source": [
    "from selenium import webdriver\n",
    "from selenium.webdriver.common.by import By\n",
    "from selenium.webdriver.common.keys import Keys\n",
    "from selenium.webdriver.chrome.service import Service\n",
    "import pandas as pd\n",
    "\n",
    "service_obj = Service(executable_path=\"C:/ProgramData/chromedriver-win64/chromedriver.exe\") \n",
    "\n",
    "# Replace with the actual path to your ChromeDriver executable\n",
    "driver = webdriver.Chrome(service=service_obj) \n",
    "\n",
    "# Navigate to the login page (replace with the actual URL)\n",
    "driver.get(\"http://202.90.199.202/tntmon/login.php\") \n",
    "\n",
    "# Locate and input username (replace with actual ID or other locator)\n",
    "username_field = driver.find_element(By.ID, \"username\") \n",
    "username_field.send_keys(\"pgn\")\n",
    "\n",
    "# Locate and input password (replace with actual NAME or other locator)\n",
    "password_field = driver.find_element(By.NAME, \"password\") \n",
    "password_field.send_keys(\"pgn2303\")\n",
    "\n",
    "# Submit the login form\n",
    "password_field.send_keys(Keys.RETURN) \n",
    "\n",
    "# Navigate to the target page (replace with the actual URL)\n",
    "driver.get(\"http://202.90.199.202/tntmon/netstatus.php/?net=T1\") \n",
    "\n",
    "# Extract data from the page (replace with actual element locators)\n",
    "table_element = driver.find_element(By.TAG_NAME, \"table\")\n",
    "rows = table_element.find_elements(By.TAG_NAME, \"tr\")\n",
    "\n",
    "data = []\n",
    "for row in rows:\n",
    "    cols = row.find_elements(By.TAG_NAME, \"td\")\n",
    "    cols = [col.text for col in cols]\n",
    "    data.append(cols)\n",
    "\n",
    "# Turn the data into a dataframe\n",
    "df = pd.DataFrame(data)\n",
    "print(df)\n",
    "\n",
    "# Close the browser\n",
    "driver.quit()"
   ]
  }
 ],
 "metadata": {
  "kernelspec": {
   "display_name": "django",
   "language": "python",
   "name": "python3"
  },
  "language_info": {
   "codemirror_mode": {
    "name": "ipython",
    "version": 3
   },
   "file_extension": ".py",
   "mimetype": "text/x-python",
   "name": "python",
   "nbconvert_exporter": "python",
   "pygments_lexer": "ipython3",
   "version": "3.13.0"
  }
 },
 "nbformat": 4,
 "nbformat_minor": 2
}
