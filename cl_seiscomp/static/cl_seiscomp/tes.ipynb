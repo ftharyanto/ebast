{
 "cells": [
  {
   "cell_type": "code",
   "execution_count": 11,
   "metadata": {},
   "outputs": [],
   "source": [
    "import openpyxl\n",
    "from openpyxl.drawing.image import Image\n",
    "\n",
    "# Load the workbook\n",
    "workbook = openpyxl.load_workbook('cl_seiscomp.xlsx')\n",
    "\n",
    "# Select the \"slmon\" sheet\n",
    "sheet = workbook['slmon']\n",
    "\n",
    "# Load the image\n",
    "img = Image('image_1.jpg')\n",
    "\n",
    "# Replace the image in cell B3 with the new image\n",
    "sheet.add_image(img, 'B3')\n",
    "\n",
    "# Save the workbook\n",
    "workbook.save('cl_seiscomp.xlsx')"
   ]
  }
 ],
 "metadata": {
  "kernelspec": {
   "display_name": "Python 3",
   "language": "python",
   "name": "python3"
  },
  "language_info": {
   "codemirror_mode": {
    "name": "ipython",
    "version": 3
   },
   "file_extension": ".py",
   "mimetype": "text/x-python",
   "name": "python",
   "nbconvert_exporter": "python",
   "pygments_lexer": "ipython3",
   "version": "3.12.8"
  }
 },
 "nbformat": 4,
 "nbformat_minor": 2
}
