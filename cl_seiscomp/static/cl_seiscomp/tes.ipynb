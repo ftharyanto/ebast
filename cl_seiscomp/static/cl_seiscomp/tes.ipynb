{
 "cells": [
  {
   "cell_type": "code",
   "execution_count": null,
   "metadata": {},
   "outputs": [
    {
     "name": "stdout",
     "output_type": "stream",
     "text": [
      "_id:1, img.path:/xl/media/image1.png\n"
     ]
    }
   ],
   "source": [
    "import openpyxl\n",
    "from openpyxl.drawing.image import Image\n",
    "\n",
    "# Load the workbook\n",
    "workbook = openpyxl.load_workbook('cl_seiscomp.xlsx')\n",
    "\n",
    "# Select the \"slmon\" sheet\n",
    "sheet = workbook['slmon']\n",
    "\n",
    "# Load the image\n",
    "img = Image('Picture1.png')\n",
    "\n",
    "for image in sheet._images:\n",
    "    print(\"_id:{}, img.path:{}\".format(image._id, image.path))\n",
    "\n",
    "if len(sheet._images) == 0:\n",
    "    # Initalise the `ref` data, do sheet.add_image(...)   \n",
    "    img.anchor='B3'\n",
    "    sheet.add_image(img)\n",
    "    # set the size of the image in inches\n",
    "    sheet._images[0].width = 8.6 * 96  # 96 DPI is the default resolution\n",
    "    sheet._images[0].height = 4.14 * 96  # 96 DPI is the default resolution\n",
    "    \n",
    "elif len(sheet._images) == 1:\n",
    "    # Replace the first image do **only** the following:\n",
    "    sheet._images[0] = img\n",
    "    # Update the default anchor `A1` to your needs\n",
    "    sheet._images[0].anchor='B3'\n",
    "    # set the size of the image in inches\n",
    "    sheet._images[0].width = 8.6 * 96  # 96 DPI is the default resolution\n",
    "    sheet._images[0].height = 4.14 * 96  # 96 DPI is the default resolution\n",
    "else:\n",
    "    raise(ValueError, \"Found more than 1 Image!\")\n",
    "\n",
    "# # Replace the image in cell B3 with the new image\n",
    "# sheet.add_image(img, 'B3')\n",
    "\n",
    "# Save the workbook\n",
    "workbook.save('cl_seiscomp.xlsx')"
   ]
  }
 ],
 "metadata": {
  "kernelspec": {
   "display_name": "Python 3",
   "language": "python",
   "name": "python3"
  },
  "language_info": {
   "codemirror_mode": {
    "name": "ipython",
    "version": 3
   },
   "file_extension": ".py",
   "mimetype": "text/x-python",
   "name": "python",
   "nbconvert_exporter": "python",
   "pygments_lexer": "ipython3",
   "version": "3.12.8"
  }
 },
 "nbformat": 4,
 "nbformat_minor": 2
}
