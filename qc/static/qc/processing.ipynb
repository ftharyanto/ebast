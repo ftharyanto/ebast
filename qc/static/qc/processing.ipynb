{
 "cells": [
  {
   "cell_type": "code",
   "execution_count": 11,
   "metadata": {},
   "outputs": [],
   "source": [
    "import openpyxl\n",
    "\n",
    "def update_excel_file(tanggal, hari, jam, kelompok, operator, NIP):\n",
    "    # Load the workbook and select the active worksheet\n",
    "    workbook = openpyxl.load_workbook('QC Seiscomp.xlsx')\n",
    "    sheet = workbook.active\n",
    "\n",
    "    # Fill cell G2 with the specified value\n",
    "    sheet['G2'] = ': ' + tanggal\n",
    "    sheet['G3'] = ': ' + hari\n",
    "    sheet['G4'] = f': {jam} - selesai'\n",
    "    sheet['G5'] = f': {kelompok}'\n",
    "    sheet['M18'] = tanggal\n",
    "    sheet['M24'] = operator\n",
    "    NIP = sheet['M25'] = 'NIP. ' + NIP\n",
    "\n",
    "    # Save the workbook\n",
    "    workbook.save('QC Seiscomp.xlsx')\n",
    "\n",
    "# Example usage\n",
    "update_excel_file('20 Desember 2020', 'Senin', '14:00', 'Kel. 1', 'Fajar', '199411052014111001')"
   ]
  },
  {
   "cell_type": "code",
   "execution_count": 7,
   "metadata": {},
   "outputs": [
    {
     "name": "stdout",
     "output_type": "stream",
     "text": [
      "2\n",
      "6\n",
      "1 [1, 2, 3, 4, 'prev', 1]\n",
      "2 [5, 6, 7, 8, 'prev', 2]\n"
     ]
    }
   ],
   "source": [
    "import pandas as pd\n",
    "from io import StringIO\n",
    "from openpyxl.utils.dataframe import dataframe_to_rows\n",
    "# Sample CSV string\n",
    "csv_string = \"apple,banana,cherry,orange\\n1,2,3,4\\n5,6,7,8\"\n",
    "\n",
    "# Create a DataFrame from the CSV string\n",
    "df = pd.read_csv(StringIO(csv_string))\n",
    "rows = dataframe_to_rows(df, index=False, header=False)\n",
    "\n",
    "# print df rows size\n",
    "print(len(df))\n",
    "df['prev'] = 'prev'\n",
    "df['no'] = range(1, len(df)+1)\n",
    "print(df.shape[1])\n",
    "\n",
    "for r_idx, row in enumerate(rows, 1):\n",
    "    print(r_idx, row)"
   ]
  }
 ],
 "metadata": {
  "kernelspec": {
   "display_name": "Python 3",
   "language": "python",
   "name": "python3"
  },
  "language_info": {
   "codemirror_mode": {
    "name": "ipython",
    "version": 3
   },
   "file_extension": ".py",
   "mimetype": "text/x-python",
   "name": "python",
   "nbconvert_exporter": "python",
   "pygments_lexer": "ipython3",
   "version": "3.12.8"
  }
 },
 "nbformat": 4,
 "nbformat_minor": 2
}
